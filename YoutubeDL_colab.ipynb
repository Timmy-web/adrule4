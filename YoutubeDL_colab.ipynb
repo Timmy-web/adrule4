{
  "nbformat": 4,
  "nbformat_minor": 0,
  "metadata": {
    "colab": {
      "name": "YoutubeDL colab.ipynb",
      "provenance": [],
      "collapsed_sections": [],
      "include_colab_link": true
    },
    "kernelspec": {
      "name": "python3",
      "display_name": "Python 3"
    },
    "language_info": {
      "name": "python"
    }
  },
  "cells": [
    {
      "cell_type": "markdown",
      "metadata": {
        "id": "view-in-github",
        "colab_type": "text"
      },
      "source": [
        "<a href=\"https://colab.research.google.com/github/Timmy-web/adrule4/blob/master/YoutubeDL_colab.ipynb\" target=\"_parent\"><img src=\"https://colab.research.google.com/assets/colab-badge.svg\" alt=\"Open In Colab\"/></a>"
      ]
    },
    {
      "cell_type": "code",
      "metadata": {
        "id": "44BBmXeAYjzc"
      },
      "source": [
        "#@title Install ffmpeg4 (necessary for embed thumbnail to mp4)\n",
        "!add-apt-repository ppa:jonathonf/ffmpeg-4\n",
        "!apt install --upgrade ffmpeg\n",
        "!ffmpeg -version"
      ],
      "execution_count": null,
      "outputs": []
    },
    {
      "cell_type": "code",
      "metadata": {
        "id": "RtG3C1YL8GTT"
      },
      "source": [
        "#@title Install Youtube DL\n",
        "!pip install --upgrade yt-dlp"
      ],
      "execution_count": null,
      "outputs": []
    },
    {
      "cell_type": "code",
      "metadata": {
        "id": "kDPcq64TfAQA"
      },
      "source": [
        "#@title Mount drive\n",
        "from google.colab import drive\n",
        "drive.mount('/content/drive')"
      ],
      "execution_count": null,
      "outputs": []
    },
    {
      "cell_type": "code",
      "metadata": {
        "id": "mGdh3kJ2-R7V"
      },
      "source": [
        "#@title Input link and download\n",
        "url = input(\"Input full youtube link here:\")\n",
        "!yt-dlp \"$url\" -i --merge-output-format mp4 --add-metadata --embed-thumbnail --embed-subs -S \"proto,codec:av01:m4a\" -r 10M -o \"/content/drive/MyDrive/[%(uploader)s][%(upload_date)s] %(title)s (%(id)s).%(ext)s\""
      ],
      "execution_count": null,
      "outputs": []
    }
  ]
}